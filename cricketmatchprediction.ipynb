{
  "nbformat": 4,
  "nbformat_minor": 0,
  "metadata": {
    "colab": {
      "provenance": [],
      "authorship_tag": "ABX9TyOtpgHHjfefk99Dm/WhqOQm",
      "include_colab_link": true
    },
    "kernelspec": {
      "name": "python3",
      "display_name": "Python 3"
    },
    "language_info": {
      "name": "python"
    }
  },
  "cells": [
    {
      "cell_type": "markdown",
      "metadata": {
        "id": "view-in-github",
        "colab_type": "text"
      },
      "source": [
        "<a href=\"https://colab.research.google.com/github/lokeshveer/cricket-match-prediction/blob/main/cricketmatchprediction.ipynb\" target=\"_parent\"><img src=\"https://colab.research.google.com/assets/colab-badge.svg\" alt=\"Open In Colab\"/></a>"
      ]
    },
    {
      "cell_type": "code",
      "execution_count": 11,
      "metadata": {
        "id": "HhmdseaBeL4Z"
      },
      "outputs": [],
      "source": [
        "#k nearst neighbour\n",
        "\n",
        "import pandas\n",
        "import numpy\n",
        "import matplotlib.pyplot as plt\n",
        "\n",
        "from sklearn.model_selection import train_test_split\n",
        "from sklearn.neighbors import KNeighborsClassifier\n",
        "from sklearn.metrics import accuracy_score\n"
      ]
    },
    {
      "cell_type": "code",
      "source": [
        "import pandas as pd\n",
        "df=pd.read_csv('/content/all_champions_trophy_matches_results.csv')\n",
        "filtered_df = df.loc[(df[\"Team1\"] == \"India\") & (df[\"Team2\"] == \"Australia\") |\n",
        "                             (df[\"Team1\"] == \"Australia\") & (df[\"Team2\"] == \"India\")]\n",
        ""
      ],
      "metadata": {
        "id": "oXqtUue656Ei"
      },
      "execution_count": 5,
      "outputs": []
    },
    {
      "cell_type": "code",
      "source": [
        "from sklearn.preprocessing import LabelEncoder\n",
        "\n",
        "# Initialize the LabelEncoder\n",
        "encoder = LabelEncoder()\n",
        "\n",
        "# List of categorical columns to convert\n",
        "categorical_columns = [\"Team1\", \"Team2\", \"Toss\", \"Ground\", \"Winner\"]\n",
        "\n",
        "# Apply Label Encoding\n",
        "for col in categorical_columns:\n",
        "    filtered_df[col] = encoder.fit_transform(filtered_df[col])\n",
        "\n",
        "# Now your data is fully numeric and can be used in KNN\n"
      ],
      "metadata": {
        "colab": {
          "base_uri": "https://localhost:8080/"
        },
        "id": "COTouk88efgU",
        "outputId": "0afc07dc-e69a-42de-d6c3-859dc7c7c0c1"
      },
      "execution_count": 6,
      "outputs": [
        {
          "output_type": "stream",
          "name": "stderr",
          "text": [
            "<ipython-input-6-f56b9e7d4d5b>:11: SettingWithCopyWarning: \n",
            "A value is trying to be set on a copy of a slice from a DataFrame.\n",
            "Try using .loc[row_indexer,col_indexer] = value instead\n",
            "\n",
            "See the caveats in the documentation: https://pandas.pydata.org/pandas-docs/stable/user_guide/indexing.html#returning-a-view-versus-a-copy\n",
            "  filtered_df[col] = encoder.fit_transform(filtered_df[col])\n",
            "<ipython-input-6-f56b9e7d4d5b>:11: SettingWithCopyWarning: \n",
            "A value is trying to be set on a copy of a slice from a DataFrame.\n",
            "Try using .loc[row_indexer,col_indexer] = value instead\n",
            "\n",
            "See the caveats in the documentation: https://pandas.pydata.org/pandas-docs/stable/user_guide/indexing.html#returning-a-view-versus-a-copy\n",
            "  filtered_df[col] = encoder.fit_transform(filtered_df[col])\n",
            "<ipython-input-6-f56b9e7d4d5b>:11: SettingWithCopyWarning: \n",
            "A value is trying to be set on a copy of a slice from a DataFrame.\n",
            "Try using .loc[row_indexer,col_indexer] = value instead\n",
            "\n",
            "See the caveats in the documentation: https://pandas.pydata.org/pandas-docs/stable/user_guide/indexing.html#returning-a-view-versus-a-copy\n",
            "  filtered_df[col] = encoder.fit_transform(filtered_df[col])\n",
            "<ipython-input-6-f56b9e7d4d5b>:11: SettingWithCopyWarning: \n",
            "A value is trying to be set on a copy of a slice from a DataFrame.\n",
            "Try using .loc[row_indexer,col_indexer] = value instead\n",
            "\n",
            "See the caveats in the documentation: https://pandas.pydata.org/pandas-docs/stable/user_guide/indexing.html#returning-a-view-versus-a-copy\n",
            "  filtered_df[col] = encoder.fit_transform(filtered_df[col])\n",
            "<ipython-input-6-f56b9e7d4d5b>:11: SettingWithCopyWarning: \n",
            "A value is trying to be set on a copy of a slice from a DataFrame.\n",
            "Try using .loc[row_indexer,col_indexer] = value instead\n",
            "\n",
            "See the caveats in the documentation: https://pandas.pydata.org/pandas-docs/stable/user_guide/indexing.html#returning-a-view-versus-a-copy\n",
            "  filtered_df[col] = encoder.fit_transform(filtered_df[col])\n"
          ]
        }
      ]
    },
    {
      "cell_type": "code",
      "source": [
        "filtered_df.info()"
      ],
      "metadata": {
        "colab": {
          "base_uri": "https://localhost:8080/"
        },
        "id": "EtlrMbqjeh_p",
        "outputId": "05d4ae1a-230b-42c5-a25f-c8884683eee8"
      },
      "execution_count": 7,
      "outputs": [
        {
          "output_type": "stream",
          "name": "stdout",
          "text": [
            "<class 'pandas.core.frame.DataFrame'>\n",
            "Index: 5 entries, 4 to 117\n",
            "Data columns (total 19 columns):\n",
            " #   Column                        Non-Null Count  Dtype  \n",
            "---  ------                        --------------  -----  \n",
            " 0   Team1                         5 non-null      int64  \n",
            " 1   Team2                         5 non-null      int64  \n",
            " 2   Toss                          5 non-null      int64  \n",
            " 3   Match days                    5 non-null      object \n",
            " 4   Winner                        5 non-null      int64  \n",
            " 5   Player of the Match           4 non-null      object \n",
            " 6   Margin                        5 non-null      object \n",
            " 7   Ground                        5 non-null      int64  \n",
            " 8   Match Date                    5 non-null      object \n",
            " 9   ODI Int Match                 5 non-null      object \n",
            " 10  Team1 Avg Batting Ranking     5 non-null      float64\n",
            " 11  Team2 Avg Batting Ranking     5 non-null      float64\n",
            " 12  Team1 Avg Bowling Ranking     5 non-null      float64\n",
            " 13  Team2 Avg Bowling Ranking     5 non-null      float64\n",
            " 14  Team1 Total CTs participated  5 non-null      int64  \n",
            " 15  Team1 Total CTs won           5 non-null      int64  \n",
            " 16  Team2 Total CTs participated  5 non-null      int64  \n",
            " 17  Team2 Total CTs won           5 non-null      int64  \n",
            " 18  Team1 W/L ratio over Team2    5 non-null      float64\n",
            "dtypes: float64(5), int64(9), object(5)\n",
            "memory usage: 800.0+ bytes\n"
          ]
        }
      ]
    },
    {
      "cell_type": "code",
      "source": [
        "data=filtered_df\n",
        "\n",
        "X=data[['Team1','Team2','Toss','Ground']] # Use filtered_df here\n",
        "Y=data['Winner'] # Use filtered_df here as well"
      ],
      "metadata": {
        "id": "3I53mh9dek9q"
      },
      "execution_count": 8,
      "outputs": []
    },
    {
      "cell_type": "code",
      "source": [
        "\n",
        "\n",
        "X_train,X_test,Y_train,Y_test=train_test_split(X,Y,test_size=0.2,random_state=42)\n",
        "\n",
        "\n",
        "km=KNeighborsClassifier(n_neighbors=3)\n",
        "km.fit(X_train,Y_train)\n",
        "\n",
        "Y_pred=km.predict(X_test)\n",
        "\n",
        "accuracy=accuracy_score(Y_test,Y_pred)\n",
        "print(accuracy)"
      ],
      "metadata": {
        "colab": {
          "base_uri": "https://localhost:8080/"
        },
        "id": "iSMhLQz2enYF",
        "outputId": "16842b83-5ceb-4a06-a3f5-685b9201bdd9"
      },
      "execution_count": 9,
      "outputs": [
        {
          "output_type": "stream",
          "name": "stdout",
          "text": [
            "1.0\n"
          ]
        }
      ]
    },
    {
      "cell_type": "code",
      "source": [
        "import numpy as np\n",
        "from sklearn.preprocessing import LabelEncoder\n",
        "\n",
        "# ... (previous code for training the KNN model and label encoding) ...\n",
        "\n",
        "# Get the original labels for the 'Winner' column\n",
        "winner_labels = encoder.classes_\n",
        "\n",
        "# Predict the new outcome\n",
        "new_data_point = np.array([[0, 1, 0, 2]])  # India vs Australia, India won the toss, Eden Gardens ground\n",
        "prediction = km.predict(new_data_point)\n",
        "\n",
        "# Get the country name using the inverse transform\n",
        "predicted_winner_name = winner_labels[prediction[0]]\n",
        "\n",
        "print(f\"The predicted winner is: {predicted_winner_name}\")"
      ],
      "metadata": {
        "colab": {
          "base_uri": "https://localhost:8080/"
        },
        "id": "xQnqGlvUepuW",
        "outputId": "63c9a7d5-0441-4b27-e01a-2f2e658dbc41"
      },
      "execution_count": 10,
      "outputs": [
        {
          "output_type": "stream",
          "name": "stdout",
          "text": [
            "The predicted winner is: India\n"
          ]
        },
        {
          "output_type": "stream",
          "name": "stderr",
          "text": [
            "/usr/local/lib/python3.11/dist-packages/sklearn/utils/validation.py:2739: UserWarning: X does not have valid feature names, but KNeighborsClassifier was fitted with feature names\n",
            "  warnings.warn(\n"
          ]
        }
      ]
    },
    {
      "cell_type": "code",
      "source": [],
      "metadata": {
        "id": "awjmAaFn6mZM"
      },
      "execution_count": null,
      "outputs": []
    }
  ]
}